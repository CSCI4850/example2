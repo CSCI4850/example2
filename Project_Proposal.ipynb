{
 "cells": [
  {
   "cell_type": "markdown",
   "id": "771a2370-df94-4be6-aef6-b5c1a1c4e296",
   "metadata": {},
   "source": [
    "# Our Wonderful Project\n",
    "\n",
    "Here it is...\n",
    "\n",
    "\n",
    "Here are some more changes..."
   ]
  },
  {
   "cell_type": "code",
   "execution_count": null,
   "id": "afd331a3-c23f-4389-bfc0-e3f2eb8dbc84",
   "metadata": {},
   "outputs": [],
   "source": []
  }
 ],
 "metadata": {
  "kernelspec": {
   "display_name": "Python 3 (ipykernel)",
   "language": "python",
   "name": "python3"
  },
  "language_info": {
   "codemirror_mode": {
    "name": "ipython",
    "version": 3
   },
   "file_extension": ".py",
   "mimetype": "text/x-python",
   "name": "python",
   "nbconvert_exporter": "python",
   "pygments_lexer": "ipython3",
   "version": "3.9.7"
  }
 },
 "nbformat": 4,
 "nbformat_minor": 5
}
